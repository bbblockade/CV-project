{
 "cells": [
  {
   "cell_type": "code",
   "execution_count": 2,
   "metadata": {},
   "outputs": [],
   "source": [
    "import torch.nn as nn\n",
    "import torchvision.models as models\n",
    "from torch.utils.data import Dataset\n",
    "from torchvision import transforms\n",
    "from torch.utils.data import Dataset\n",
    "import pandas as pd\n",
    "import os\n",
    "from PIL import Image\n",
    "from torchvision.models import resnet50, ResNet50_Weights, ResNet18_Weights, resnet18, EfficientNet_B1_Weights, efficientnet_b1\n",
    "import random\n",
    "import torch"
   ]
  },
  {
   "cell_type": "code",
   "execution_count": null,
   "metadata": {},
   "outputs": [],
   "source": [
    "def process_images_from_directory(input_folder, output_folder):\n",
    "    \"\"\"\n",
    "    Processes images from input_folder, transforms them, and saves as tensors in output_folder.\n",
    "    \"\"\"\n",
    "    image_files = [f for f in os.listdir(input_folder) if os.path.isfile(os.path.join(input_folder, f))]\n",
    "\n",
    "    # Process each image file\n",
    "    for image_file in image_files:\n",
    "        # Open the image using PIL\n",
    "        image_path = os.path.join(input_folder, image_file)\n",
    "        image = Image.open(image_path)\n",
    "        \n",
    "        # Transform the image\n",
    "        tensor_image = preprocess(image)\n",
    "\n",
    "        # Save the tensor using torch.save\n",
    "        output_path = os.path.join(output_folder, os.path.splitext(image_file)[0] + '.pt')  \n",
    "        torch.save(tensor_image, output_path)"
   ]
  },
  {
   "cell_type": "code",
   "execution_count": null,
   "metadata": {},
   "outputs": [],
   "source": [
    "weights = ResNet50_Weights.DEFAULT\n",
    "preprocess = weights.transforms()\n",
    "process_images_from_directory('train/left', 'train_tensor_res50/left')\n",
    "process_images_from_directory('train/right', 'train_tensor_res50/right')\n",
    "process_images_from_directory('test/left', 'test_tensor_res50/left')\n",
    "process_images_from_directory('test/right', 'test_tensor_res50/right')"
   ]
  },
  {
   "cell_type": "code",
   "execution_count": null,
   "metadata": {},
   "outputs": [],
   "source": [
    "weights = ResNet18_Weights.DEFAULT\n",
    "preprocess = weights.transforms()\n",
    "process_images_from_directory('train/left', 'train_tensor_res18/left')\n",
    "process_images_from_directory('train/right', 'train_tensor_res18/right')\n",
    "process_images_from_directory('test/left', 'test_tensor_res18/left')\n",
    "process_images_from_directory('test/right', 'test_tensor_res18/right')"
   ]
  }
 ],
 "metadata": {
  "kernelspec": {
   "display_name": "SML",
   "language": "python",
   "name": "python3"
  },
  "language_info": {
   "codemirror_mode": {
    "name": "ipython",
    "version": 3
   },
   "file_extension": ".py",
   "mimetype": "text/x-python",
   "name": "python",
   "nbconvert_exporter": "python",
   "pygments_lexer": "ipython3",
   "version": "3.11.4"
  }
 },
 "nbformat": 4,
 "nbformat_minor": 2
}
